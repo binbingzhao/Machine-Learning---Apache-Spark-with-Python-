{
 "cells": [
  {
   "cell_type": "code",
   "execution_count": 4,
   "metadata": {},
   "outputs": [],
   "source": [
    "from pyspark import SparkConf, SparkContext\n",
    "from pyspark.sql.session import SparkSession\n",
    "sc = SparkContext()\n",
    "spark = SparkSession(sc)"
   ]
  },
  {
   "cell_type": "markdown",
   "metadata": {},
   "source": [
    "# Problem 1:  \n",
    "Remove the header of the attached Samll_Car_Data.csv file and then import it into Spark. Randomly select 10% of you data for testing and use remaining data for training. Look initially at horsepower and displacement. Treat displacement as a feature and horsepower as the target variable. Use MLlib linear regression to identify the model for the relationship. Use test data to illustrate accuracy of your ability to predict the relationship. Create a diagram using D3 which presents the model (straight line), original test data and predictions of your analysis. Please label your axes and use different colors for original data and predicted data."
   ]
  },
  {
   "cell_type": "markdown",
   "metadata": {},
   "source": [
    "# Load The Data"
   ]
  },
  {
   "cell_type": "code",
   "execution_count": 5,
   "metadata": {},
   "outputs": [
    {
     "data": {
      "text/plain": [
       "[Row(Acceleration=12.0, Cylinders=8, Displacement=307, Horsepower=130, Manufacturer='chevrolet    ', Model='chevrolet chevelle malibu        ', Model_Year=70, MPG=18.0, Origin='USA    ', Weight=3504)]"
      ]
     },
     "execution_count": 5,
     "metadata": {},
     "output_type": "execute_result"
    }
   ],
   "source": [
    "car_df = spark.read.format('com.databricks.spark.csv').options(header='true', inferschema='true').load('Small_Car_Data2.csv')\n",
    "car_df.take(1)"
   ]
  },
  {
   "cell_type": "code",
   "execution_count": 6,
   "metadata": {},
   "outputs": [
    {
     "name": "stdout",
     "output_type": "stream",
     "text": [
      "+------------+---------+------------+----------+-------------+--------------------+----------+----+-------+------+\n",
      "|Acceleration|Cylinders|Displacement|Horsepower| Manufacturer|               Model|Model_Year| MPG| Origin|Weight|\n",
      "+------------+---------+------------+----------+-------------+--------------------+----------+----+-------+------+\n",
      "|        12.0|        8|         307|       130|chevrolet    |chevrolet chevell...|        70|18.0|USA    |  3504|\n",
      "|        11.5|        8|         350|       165|buick        |buick skylark 320...|        70|15.0|USA    |  3693|\n",
      "|        11.0|        8|         318|       150|plymouth     |plymouth satellit...|        70|18.0|USA    |  3436|\n",
      "|        12.0|        8|         304|       150|amc          |amc rebel sst    ...|        70|16.0|USA    |  3433|\n",
      "|        10.5|        8|         302|       140|ford         |ford torino      ...|        70|17.0|USA    |  3449|\n",
      "|        10.0|        8|         429|       198|ford         |ford galaxie 500 ...|        70|15.0|USA    |  4341|\n",
      "|         9.0|        8|         454|       220|chevrolet    |chevrolet impala ...|        70|14.0|USA    |  4354|\n",
      "|         8.5|        8|         440|       215|plymouth     |plymouth fury iii...|        70|14.0|USA    |  4312|\n",
      "|        10.0|        8|         455|       225|pontiac      |pontiac catalina ...|        70|14.0|USA    |  4425|\n",
      "|         8.5|        8|         390|       190|amc          |amc ambassador dp...|        70|15.0|USA    |  3850|\n",
      "|        17.5|        4|         133|       115|citroen      |citroen ds-21 pal...|        70|14.0|France |  3090|\n",
      "|        11.5|        8|         350|       165|chevrolet    |chevrolet chevell...|        70|16.0|USA    |  4142|\n",
      "|        11.0|        8|         351|       153|ford         |ford torino (sw) ...|        70|17.0|USA    |  4034|\n",
      "|        10.5|        8|         383|       175|plymouth     |plymouth satellit...|        70|19.0|USA    |  4166|\n",
      "|        11.0|        8|         360|       175|amc          |amc rebel sst (sw...|        70|20.0|USA    |  3850|\n",
      "|        10.0|        8|         383|       170|dodge        |dodge challenger ...|        70|15.0|USA    |  3563|\n",
      "|         8.0|        8|         340|       160|plymouth     |plymouth 'cuda 34...|        70|14.0|USA    |  3609|\n",
      "|         8.0|        8|         302|       140|ford         |ford mustang boss...|        70|16.0|USA    |  3353|\n",
      "|         9.5|        8|         400|       150|chevrolet    |chevrolet monte c...|        70|15.0|USA    |  3761|\n",
      "|        10.0|        8|         455|       225|buick        |buick estate wago...|        70|14.0|USA    |  3086|\n",
      "+------------+---------+------------+----------+-------------+--------------------+----------+----+-------+------+\n",
      "only showing top 20 rows\n",
      "\n"
     ]
    }
   ],
   "source": [
    "car_df.show()"
   ]
  },
  {
   "cell_type": "code",
   "execution_count": 7,
   "metadata": {},
   "outputs": [
    {
     "data": {
      "text/plain": [
       "DataFrame[summary: string, Acceleration: string, Cylinders: string, Displacement: string, Horsepower: string, Manufacturer: string, Model: string, Model_Year: string, MPG: string, Origin: string, Weight: string]"
      ]
     },
     "execution_count": 7,
     "metadata": {},
     "output_type": "execute_result"
    }
   ],
   "source": [
    "car_df.describe()"
   ]
  },
  {
   "cell_type": "markdown",
   "metadata": {},
   "source": [
    "# Data Exploration"
   ]
  },
  {
   "cell_type": "code",
   "execution_count": 8,
   "metadata": {},
   "outputs": [
    {
     "name": "stdout",
     "output_type": "stream",
     "text": [
      "root\n",
      " |-- Acceleration: double (nullable = true)\n",
      " |-- Cylinders: integer (nullable = true)\n",
      " |-- Displacement: integer (nullable = true)\n",
      " |-- Horsepower: integer (nullable = true)\n",
      " |-- Manufacturer: string (nullable = true)\n",
      " |-- Model: string (nullable = true)\n",
      " |-- Model_Year: integer (nullable = true)\n",
      " |-- MPG: double (nullable = true)\n",
      " |-- Origin: string (nullable = true)\n",
      " |-- Weight: integer (nullable = true)\n",
      "\n"
     ]
    }
   ],
   "source": [
    "# Print Schema in the tree format\n",
    "car_df.cache()\n",
    "car_df.printSchema()"
   ]
  },
  {
   "cell_type": "code",
   "execution_count": 9,
   "metadata": {},
   "outputs": [
    {
     "data": {
      "text/html": [
       "<div>\n",
       "<style scoped>\n",
       "    .dataframe tbody tr th:only-of-type {\n",
       "        vertical-align: middle;\n",
       "    }\n",
       "\n",
       "    .dataframe tbody tr th {\n",
       "        vertical-align: top;\n",
       "    }\n",
       "\n",
       "    .dataframe thead th {\n",
       "        text-align: right;\n",
       "    }\n",
       "</style>\n",
       "<table border=\"1\" class=\"dataframe\">\n",
       "  <thead>\n",
       "    <tr style=\"text-align: right;\">\n",
       "      <th></th>\n",
       "      <th>0</th>\n",
       "      <th>1</th>\n",
       "      <th>2</th>\n",
       "      <th>3</th>\n",
       "      <th>4</th>\n",
       "    </tr>\n",
       "  </thead>\n",
       "  <tbody>\n",
       "    <tr>\n",
       "      <th>summary</th>\n",
       "      <td>count</td>\n",
       "      <td>mean</td>\n",
       "      <td>stddev</td>\n",
       "      <td>min</td>\n",
       "      <td>max</td>\n",
       "    </tr>\n",
       "    <tr>\n",
       "      <th>Acceleration</th>\n",
       "      <td>100</td>\n",
       "      <td>15.028000000000004</td>\n",
       "      <td>3.348452982160175</td>\n",
       "      <td>8.0</td>\n",
       "      <td>24.6</td>\n",
       "    </tr>\n",
       "    <tr>\n",
       "      <th>Cylinders</th>\n",
       "      <td>100</td>\n",
       "      <td>5.62</td>\n",
       "      <td>1.7909988184465022</td>\n",
       "      <td>4</td>\n",
       "      <td>8</td>\n",
       "    </tr>\n",
       "    <tr>\n",
       "      <th>Displacement</th>\n",
       "      <td>100</td>\n",
       "      <td>207.6</td>\n",
       "      <td>111.77448435817251</td>\n",
       "      <td>85</td>\n",
       "      <td>455</td>\n",
       "    </tr>\n",
       "    <tr>\n",
       "      <th>Horsepower</th>\n",
       "      <td>100</td>\n",
       "      <td>111.83</td>\n",
       "      <td>45.345153316456326</td>\n",
       "      <td>46</td>\n",
       "      <td>225</td>\n",
       "    </tr>\n",
       "    <tr>\n",
       "      <th>Manufacturer</th>\n",
       "      <td>100</td>\n",
       "      <td>None</td>\n",
       "      <td>None</td>\n",
       "      <td>amc</td>\n",
       "      <td>volvo</td>\n",
       "    </tr>\n",
       "    <tr>\n",
       "      <th>Model</th>\n",
       "      <td>100</td>\n",
       "      <td>None</td>\n",
       "      <td>None</td>\n",
       "      <td>amc ambassador dpl</td>\n",
       "      <td>volvo 245</td>\n",
       "    </tr>\n",
       "    <tr>\n",
       "      <th>Model_Year</th>\n",
       "      <td>100</td>\n",
       "      <td>75.76</td>\n",
       "      <td>4.893037725362245</td>\n",
       "      <td>70</td>\n",
       "      <td>82</td>\n",
       "    </tr>\n",
       "    <tr>\n",
       "      <th>MPG</th>\n",
       "      <td>100</td>\n",
       "      <td>23.315</td>\n",
       "      <td>7.966994731421944</td>\n",
       "      <td>9.0</td>\n",
       "      <td>44.0</td>\n",
       "    </tr>\n",
       "    <tr>\n",
       "      <th>Origin</th>\n",
       "      <td>100</td>\n",
       "      <td>None</td>\n",
       "      <td>None</td>\n",
       "      <td>France</td>\n",
       "      <td>USA</td>\n",
       "    </tr>\n",
       "    <tr>\n",
       "      <th>Weight</th>\n",
       "      <td>100</td>\n",
       "      <td>3011.83</td>\n",
       "      <td>806.9624182980607</td>\n",
       "      <td>1795</td>\n",
       "      <td>4732</td>\n",
       "    </tr>\n",
       "  </tbody>\n",
       "</table>\n",
       "</div>"
      ],
      "text/plain": [
       "                  0                   1                   2  \\\n",
       "summary       count                mean              stddev   \n",
       "Acceleration    100  15.028000000000004   3.348452982160175   \n",
       "Cylinders       100                5.62  1.7909988184465022   \n",
       "Displacement    100               207.6  111.77448435817251   \n",
       "Horsepower      100              111.83  45.345153316456326   \n",
       "Manufacturer    100                None                None   \n",
       "Model           100                None                None   \n",
       "Model_Year      100               75.76   4.893037725362245   \n",
       "MPG             100              23.315   7.966994731421944   \n",
       "Origin          100                None                None   \n",
       "Weight          100             3011.83   806.9624182980607   \n",
       "\n",
       "                                              3  \\\n",
       "summary                                     min   \n",
       "Acceleration                                8.0   \n",
       "Cylinders                                     4   \n",
       "Displacement                                 85   \n",
       "Horsepower                                   46   \n",
       "Manufacturer                      amc             \n",
       "Model         amc ambassador dpl                  \n",
       "Model_Year                                   70   \n",
       "MPG                                         9.0   \n",
       "Origin                                  France    \n",
       "Weight                                     1795   \n",
       "\n",
       "                                              4  \n",
       "summary                                     max  \n",
       "Acceleration                               24.6  \n",
       "Cylinders                                     8  \n",
       "Displacement                                455  \n",
       "Horsepower                                  225  \n",
       "Manufacturer                      volvo          \n",
       "Model         volvo 245                          \n",
       "Model_Year                                   82  \n",
       "MPG                                        44.0  \n",
       "Origin                                  USA      \n",
       "Weight                                     4732  "
      ]
     },
     "execution_count": 9,
     "metadata": {},
     "output_type": "execute_result"
    }
   ],
   "source": [
    "# descriptive data\n",
    "car_df.describe().toPandas().transpose()"
   ]
  },
  {
   "cell_type": "code",
   "execution_count": 10,
   "metadata": {},
   "outputs": [
    {
     "name": "stdout",
     "output_type": "stream",
     "text": [
      "Correlation to Horsepower for  Acceleration -0.6941178810791645\n",
      "Correlation to Horsepower for  Cylinders 0.8618725271539766\n",
      "Correlation to Horsepower for  Displacement 0.9135598437999649\n",
      "Correlation to Horsepower for  Horsepower 1.0\n",
      "Correlation to Horsepower for  Model_Year -0.6084983749782751\n",
      "Correlation to Horsepower for  MPG -0.7973574552873728\n",
      "Correlation to Horsepower for  Weight 0.8722465678203942\n"
     ]
    }
   ],
   "source": [
    "# find the correlation between independent features and target variable\n",
    "import six\n",
    "for i in car_df.columns:\n",
    "    if not( isinstance(car_df.select(i).take(1)[0][0], six.string_types)):\n",
    "        print( \"Correlation to Horsepower for \", i, car_df.stat.corr('Horsepower',i))"
   ]
  },
  {
   "cell_type": "code",
   "execution_count": 11,
   "metadata": {},
   "outputs": [
    {
     "name": "stdout",
     "output_type": "stream",
     "text": [
      "+--------+------------+----------+\n",
      "|features|Displacement|Horsepower|\n",
      "+--------+------------+----------+\n",
      "| [307.0]|         307|       130|\n",
      "| [350.0]|         350|       165|\n",
      "| [318.0]|         318|       150|\n",
      "| [304.0]|         304|       150|\n",
      "| [302.0]|         302|       140|\n",
      "| [429.0]|         429|       198|\n",
      "| [454.0]|         454|       220|\n",
      "| [440.0]|         440|       215|\n",
      "| [455.0]|         455|       225|\n",
      "| [390.0]|         390|       190|\n",
      "| [133.0]|         133|       115|\n",
      "| [350.0]|         350|       165|\n",
      "| [351.0]|         351|       153|\n",
      "| [383.0]|         383|       175|\n",
      "| [360.0]|         360|       175|\n",
      "| [383.0]|         383|       170|\n",
      "| [340.0]|         340|       160|\n",
      "| [302.0]|         302|       140|\n",
      "| [400.0]|         400|       150|\n",
      "| [455.0]|         455|       225|\n",
      "+--------+------------+----------+\n",
      "only showing top 20 rows\n",
      "\n"
     ]
    }
   ],
   "source": [
    "# Prepare Machine learning with feature (\"Displacement\") & label (\"Horepower\")\n",
    "from pyspark.ml.feature import VectorAssembler\n",
    "vectorAssembler = VectorAssembler(inputCols = ['Displacement'], outputCol = 'features')\n",
    "vcar_df = vectorAssembler.transform(car_df)\n",
    "vcar_df = vcar_df.select(['features','Displacement', 'Horsepower'])\n",
    "vcar_df.show()"
   ]
  },
  {
   "cell_type": "markdown",
   "metadata": {},
   "source": [
    "# Split train & test data"
   ]
  },
  {
   "cell_type": "code",
   "execution_count": 12,
   "metadata": {},
   "outputs": [],
   "source": [
    "train_df,test_df = vcar_df.randomSplit([0.9, 0.1],seed=0)"
   ]
  },
  {
   "cell_type": "code",
   "execution_count": 13,
   "metadata": {},
   "outputs": [
    {
     "data": {
      "text/plain": [
       "(10, 90)"
      ]
     },
     "execution_count": 13,
     "metadata": {},
     "output_type": "execute_result"
    }
   ],
   "source": [
    "test_df.count(), train_df.count()"
   ]
  },
  {
   "cell_type": "markdown",
   "metadata": {},
   "source": [
    "# Linear Regression\n",
    "## training data"
   ]
  },
  {
   "cell_type": "code",
   "execution_count": 15,
   "metadata": {},
   "outputs": [
    {
     "name": "stdout",
     "output_type": "stream",
     "text": [
      "Coefficients: [0.3728492604002122]\n",
      "Intercept: 34.227574832818114\n"
     ]
    }
   ],
   "source": [
    "from pyspark.ml.regression import LinearRegression\n",
    "lr = LinearRegression(featuresCol = 'features', labelCol='Horsepower', maxIter=10, regParam=0.3, elasticNetParam=0.8)\n",
    "lr_model = lr.fit(train_df)\n",
    "print(\"Coefficients: \" + str(lr_model.coefficients))\n",
    "print(\"Intercept: \" + str(lr_model.intercept))"
   ]
  },
  {
   "cell_type": "code",
   "execution_count": 16,
   "metadata": {},
   "outputs": [
    {
     "name": "stdout",
     "output_type": "stream",
     "text": [
      "RMSE: 18.609832\n",
      "r2: 0.838405\n"
     ]
    }
   ],
   "source": [
    "# Summarize the model\n",
    "trainingSummary = lr_model.summary\n",
    "print(\"RMSE: %f\" % trainingSummary.rootMeanSquaredError)\n",
    "print(\"r2: %f\" % trainingSummary.r2)\n",
    "\n",
    "# R^2 at 0.838 indicates that in our linear regression model, there are about 83.8% of the variability in “Horsepower” can be explained using the model. "
   ]
  },
  {
   "cell_type": "code",
   "execution_count": 17,
   "metadata": {},
   "outputs": [
    {
     "name": "stdout",
     "output_type": "stream",
     "text": [
      "+-------+------------------+------------------+\n",
      "|summary|      Displacement|        Horsepower|\n",
      "+-------+------------------+------------------+\n",
      "|  count|                90|                90|\n",
      "|   mean|207.84444444444443|111.72222222222223|\n",
      "| stddev|113.53541358240759|46.553829608164534|\n",
      "|    min|                85|                46|\n",
      "|    max|               455|               225|\n",
      "+-------+------------------+------------------+\n",
      "\n"
     ]
    }
   ],
   "source": [
    "train_df.describe().show()"
   ]
  },
  {
   "cell_type": "markdown",
   "metadata": {},
   "source": [
    "## test data"
   ]
  },
  {
   "cell_type": "code",
   "execution_count": 18,
   "metadata": {},
   "outputs": [
    {
     "name": "stdout",
     "output_type": "stream",
     "text": [
      "+-----------------+----------+--------+\n",
      "|       prediction|Horsepower|features|\n",
      "+-----------------+----------+--------+\n",
      "|74.12244569564082|        75| [107.0]|\n",
      "|75.98669199764188|        88| [112.0]|\n",
      "| 79.3423353412438|       113| [121.0]|\n",
      "|84.56222498684676|        84| [135.0]|\n",
      "|90.52781315325015|        91| [151.0]|\n",
      "+-----------------+----------+--------+\n",
      "only showing top 5 rows\n",
      "\n",
      "R Squared (R2) on test data = 0.764507\n"
     ]
    }
   ],
   "source": [
    "lr_predictions = lr_model.transform(test_df)\n",
    "lr_predictions.select(\"prediction\",\"Horsepower\",\"features\").show(5)\n",
    "from pyspark.ml.evaluation import RegressionEvaluator\n",
    "lr_evaluator = RegressionEvaluator(predictionCol=\"prediction\", \\\n",
    "                 labelCol=\"Horsepower\",metricName=\"r2\")\n",
    "print(\"R Squared (R2) on test data = %g\" % lr_evaluator.evaluate(lr_predictions))"
   ]
  },
  {
   "cell_type": "code",
   "execution_count": 19,
   "metadata": {},
   "outputs": [
    {
     "name": "stdout",
     "output_type": "stream",
     "text": [
      "Root Mean Squared Error (RMSE) on test data = 15.8483\n"
     ]
    }
   ],
   "source": [
    "test_result = lr_model.evaluate(test_df)\n",
    "print(\"Root Mean Squared Error (RMSE) on test data = %g\" % test_result.rootMeanSquaredError)"
   ]
  },
  {
   "cell_type": "code",
   "execution_count": 20,
   "metadata": {},
   "outputs": [
    {
     "name": "stdout",
     "output_type": "stream",
     "text": [
      "numIterations: 3\n",
      "objectiveHistory: [0.5, 0.41039789119649395, 0.08604708341278823]\n",
      "+--------------------+\n",
      "|           residuals|\n",
      "+--------------------+\n",
      "| -13.919761966836148|\n",
      "|   4.080238033163852|\n",
      "|   2.215991731162788|\n",
      "| -15.156857529237428|\n",
      "| -1.1568575292374277|\n",
      "| -1.1568575292374277|\n",
      "| -1.1568575292374277|\n",
      "|-0.15685752923742768|\n",
      "|-0.15685752923742768|\n",
      "| -24.393953091638707|\n",
      "| -18.393953091638707|\n",
      "|  0.6060469083612929|\n",
      "|   4.606046908361293|\n",
      "|  17.606046908361293|\n",
      "| -10.766802352038908|\n",
      "| -0.7668023520389085|\n",
      "|   8.233197647961092|\n",
      "|  11.114649866760459|\n",
      "|  21.996102085559812|\n",
      "| -10.376747174840403|\n",
      "+--------------------+\n",
      "only showing top 20 rows\n",
      "\n"
     ]
    }
   ],
   "source": [
    "print(\"numIterations: %d\" % trainingSummary.totalIterations)\n",
    "print(\"objectiveHistory: %s\" % str(trainingSummary.objectiveHistory))\n",
    "trainingSummary.residuals.show()"
   ]
  },
  {
   "cell_type": "markdown",
   "metadata": {},
   "source": [
    "# Make Predictions"
   ]
  },
  {
   "cell_type": "code",
   "execution_count": 21,
   "metadata": {
    "scrolled": true
   },
   "outputs": [
    {
     "name": "stdout",
     "output_type": "stream",
     "text": [
      "+------------------+----------+------------+--------+\n",
      "|        prediction|Horsepower|Displacement|features|\n",
      "+------------------+----------+------------+--------+\n",
      "| 74.12244569564082|        75|         107| [107.0]|\n",
      "| 75.98669199764188|        88|         112| [112.0]|\n",
      "|  79.3423353412438|       113|         121| [121.0]|\n",
      "| 84.56222498684676|        84|         135| [135.0]|\n",
      "| 90.52781315325015|        91|         151| [151.0]|\n",
      "|101.71329096525653|       110|         181| [181.0]|\n",
      "|120.72860324566736|        90|         232| [232.0]|\n",
      "|147.57374999448263|       150|         304| [304.0]|\n",
      "| 165.0976652332926|       152|         351| [351.0]|\n",
      "| 168.4533085768945|       175|         360| [360.0]|\n",
      "+------------------+----------+------------+--------+\n",
      "\n"
     ]
    }
   ],
   "source": [
    "predictions = lr_model.transform(test_df)\n",
    "predictions.select(\"prediction\",\"Horsepower\",\n",
    "                   'Displacement',\"features\").show()"
   ]
  },
  {
   "cell_type": "markdown",
   "metadata": {},
   "source": [
    "# Plot the linear regression"
   ]
  },
  {
   "cell_type": "code",
   "execution_count": 22,
   "metadata": {},
   "outputs": [],
   "source": [
    "import matplotlib.pyplot as plt\n",
    "import numpy as np\n",
    "from numpy import polyfit"
   ]
  },
  {
   "cell_type": "code",
   "execution_count": 23,
   "metadata": {},
   "outputs": [
    {
     "data": {
      "image/png": "[encoded data removed]",
      "text/plain": [
       "<Figure size 720x432 with 1 Axes>"
      ]
     },
     "metadata": {
      "needs_background": "light"
     },
     "output_type": "display_data"
    }
   ],
   "source": [
    "x1 = predictions.toPandas()['Displacement'].values.tolist()\n",
    "y1 = predictions.toPandas()['prediction'].values.tolist()\n",
    "y2 = predictions.toPandas()['Horsepower'].values.tolist()\n",
    "\n",
    "plt.figure(1, figsize=(10,6))\n",
    "plt.scatter(x1, y1, color='red', s=100)\n",
    "plt.scatter(x1, y2, color='black', s=50)\n",
    "plt.xlabel('Displacement')\n",
    "plt.ylabel('Horsepower')\n",
    "plt.title('Linear Regression')\n",
    "\n",
    "p1 = polyfit(x1, y1, 1)\n",
    "\n",
    "\n",
    "plt.plot(x1, np.polyval(p1,x1), 'g-',label='predicted')\n",
    "plt.plot(x1,y2,'.',label='original')\n",
    "plt.legend(loc='upper left')\n",
    "plt.show()"
   ]
  },
  {
   "cell_type": "markdown",
   "metadata": {},
   "source": [
    "# Problem 2:  \n",
    "Treat: cylinders, displacement, manufacturer, model year, origin and weight as features and use linear regression to predict two target variable: horsepower and acceleration. Please note that some of those are categorical variables. Use test data to assess quality of prediction for both target variables. Which of two target variables is easier to predict, in the sense that predicted values differ less from the original values"
   ]
  },
  {
   "cell_type": "code",
   "execution_count": 28,
   "metadata": {},
   "outputs": [],
   "source": [
    "# Convert categorical data: \"Origin\" and \"Manufacturer\"\n",
    "from pyspark.ml import Pipeline\n",
    "from pyspark.ml.feature import StringIndexer"
   ]
  },
  {
   "cell_type": "markdown",
   "metadata": {},
   "source": [
    "conda install prompt_toolkit==2.0.10"
   ]
  },
  {
   "cell_type": "code",
   "execution_count": null,
   "metadata": {},
   "outputs": [],
   "source": [
    "car_df.describe()"
   ]
  },
  {
   "cell_type": "markdown",
   "metadata": {},
   "source": [
    "## Dealing with Categorical data by using StringIndexer"
   ]
  },
  {
   "cell_type": "code",
   "execution_count": 44,
   "metadata": {},
   "outputs": [
    {
     "name": "stdout",
     "output_type": "stream",
     "text": [
      "+------------+---------+------------+----------+-------------+--------------------+----------+----+-------+------+------------------+------------+\n",
      "|Acceleration|Cylinders|Displacement|Horsepower| Manufacturer|               Model|Model_Year| MPG| Origin|Weight|Manufacturer_index|Origin_index|\n",
      "+------------+---------+------------+----------+-------------+--------------------+----------+----+-------+------+------------------+------------+\n",
      "|        12.0|        8|         307|       130|chevrolet    |chevrolet chevell...|        70|18.0|USA    |  3504|               1.0|         0.0|\n",
      "|        11.5|        8|         350|       165|buick        |buick skylark 320...|        70|15.0|USA    |  3693|               9.0|         0.0|\n",
      "|        11.0|        8|         318|       150|plymouth     |plymouth satellit...|        70|18.0|USA    |  3436|               4.0|         0.0|\n",
      "|        12.0|        8|         304|       150|amc          |amc rebel sst    ...|        70|16.0|USA    |  3433|               2.0|         0.0|\n",
      "|        10.5|        8|         302|       140|ford         |ford torino      ...|        70|17.0|USA    |  3449|               0.0|         0.0|\n",
      "|        10.0|        8|         429|       198|ford         |ford galaxie 500 ...|        70|15.0|USA    |  4341|               0.0|         0.0|\n",
      "|         9.0|        8|         454|       220|chevrolet    |chevrolet impala ...|        70|14.0|USA    |  4354|               1.0|         0.0|\n",
      "|         8.5|        8|         440|       215|plymouth     |plymouth fury iii...|        70|14.0|USA    |  4312|               4.0|         0.0|\n",
      "|        10.0|        8|         455|       225|pontiac      |pontiac catalina ...|        70|14.0|USA    |  4425|               8.0|         0.0|\n",
      "|         8.5|        8|         390|       190|amc          |amc ambassador dp...|        70|15.0|USA    |  3850|               2.0|         0.0|\n",
      "|        17.5|        4|         133|       115|citroen      |citroen ds-21 pal...|        70|14.0|France |  3090|              17.0|         3.0|\n",
      "|        11.5|        8|         350|       165|chevrolet    |chevrolet chevell...|        70|16.0|USA    |  4142|               1.0|         0.0|\n",
      "|        11.0|        8|         351|       153|ford         |ford torino (sw) ...|        70|17.0|USA    |  4034|               0.0|         0.0|\n",
      "|        10.5|        8|         383|       175|plymouth     |plymouth satellit...|        70|19.0|USA    |  4166|               4.0|         0.0|\n",
      "|        11.0|        8|         360|       175|amc          |amc rebel sst (sw...|        70|20.0|USA    |  3850|               2.0|         0.0|\n",
      "|        10.0|        8|         383|       170|dodge        |dodge challenger ...|        70|15.0|USA    |  3563|               3.0|         0.0|\n",
      "|         8.0|        8|         340|       160|plymouth     |plymouth 'cuda 34...|        70|14.0|USA    |  3609|               4.0|         0.0|\n",
      "|         8.0|        8|         302|       140|ford         |ford mustang boss...|        70|16.0|USA    |  3353|               0.0|         0.0|\n",
      "|         9.5|        8|         400|       150|chevrolet    |chevrolet monte c...|        70|15.0|USA    |  3761|               1.0|         0.0|\n",
      "|        10.0|        8|         455|       225|buick        |buick estate wago...|        70|14.0|USA    |  3086|               9.0|         0.0|\n",
      "+------------+---------+------------+----------+-------------+--------------------+----------+----+-------+------+------------------+------------+\n",
      "only showing top 20 rows\n",
      "\n"
     ]
    }
   ],
   "source": [
    "# Index labels, adding metadata to the label column.\n",
    "# Fit on whole dataset to include all labels in index.\n",
    "indexers = [StringIndexer(inputCol=column, outputCol=column+\"_index\").fit(car_df) \n",
    "            for column in list(set(car_df.columns)-set(['Acceleration','Cylinders','Displacement',\n",
    "                                                    'Horsepower','Model','Model_Year','MPG','Weight'])) ]\n",
    "\n",
    "pipeline = Pipeline(stages=indexers)\n",
    "car_df2 = pipeline.fit(car_df).transform(car_df)\n",
    "\n",
    "car_df2.show()"
   ]
  },
  {
   "cell_type": "code",
   "execution_count": 45,
   "metadata": {},
   "outputs": [
    {
     "data": {
      "text/plain": [
       "DataFrame[summary: string, Acceleration: string, Cylinders: string, Displacement: string, Horsepower: string, Manufacturer: string, Model: string, Model_Year: string, MPG: string, Origin: string, Weight: string, Manufacturer_index: string, Origin_index: string]"
      ]
     },
     "execution_count": 45,
     "metadata": {},
     "output_type": "execute_result"
    }
   ],
   "source": [
    "car_df2.describe()"
   ]
  },
  {
   "cell_type": "code",
   "execution_count": 52,
   "metadata": {},
   "outputs": [
    {
     "name": "stdout",
     "output_type": "stream",
     "text": [
      "+--------------------+----------+\n",
      "|            features|Horsepower|\n",
      "+--------------------+----------+\n",
      "|[0.0,1.0,8.0,307....|       130|\n",
      "|[0.0,9.0,8.0,350....|       165|\n",
      "|[0.0,4.0,8.0,318....|       150|\n",
      "|[0.0,2.0,8.0,304....|       150|\n",
      "|[0.0,0.0,8.0,302....|       140|\n",
      "|[0.0,0.0,8.0,429....|       198|\n",
      "|[0.0,1.0,8.0,454....|       220|\n",
      "|[0.0,4.0,8.0,440....|       215|\n",
      "|[0.0,8.0,8.0,455....|       225|\n",
      "|[0.0,2.0,8.0,390....|       190|\n",
      "|[3.0,17.0,4.0,133...|       115|\n",
      "|[0.0,1.0,8.0,350....|       165|\n",
      "|[0.0,0.0,8.0,351....|       153|\n",
      "|[0.0,4.0,8.0,383....|       175|\n",
      "|[0.0,2.0,8.0,360....|       175|\n",
      "|[0.0,3.0,8.0,383....|       170|\n",
      "|[0.0,4.0,8.0,340....|       160|\n",
      "|[0.0,0.0,8.0,302....|       140|\n",
      "|[0.0,1.0,8.0,400....|       150|\n",
      "|[0.0,9.0,8.0,455....|       225|\n",
      "+--------------------+----------+\n",
      "only showing top 20 rows\n",
      "\n",
      "+--------------------+------------+\n",
      "|            features|Acceleration|\n",
      "+--------------------+------------+\n",
      "|[0.0,1.0,8.0,307....|        12.0|\n",
      "|[0.0,9.0,8.0,350....|        11.5|\n",
      "|[0.0,4.0,8.0,318....|        11.0|\n",
      "|[0.0,2.0,8.0,304....|        12.0|\n",
      "|[0.0,0.0,8.0,302....|        10.5|\n",
      "|[0.0,0.0,8.0,429....|        10.0|\n",
      "|[0.0,1.0,8.0,454....|         9.0|\n",
      "|[0.0,4.0,8.0,440....|         8.5|\n",
      "|[0.0,8.0,8.0,455....|        10.0|\n",
      "|[0.0,2.0,8.0,390....|         8.5|\n",
      "|[3.0,17.0,4.0,133...|        17.5|\n",
      "|[0.0,1.0,8.0,350....|        11.5|\n",
      "|[0.0,0.0,8.0,351....|        11.0|\n",
      "|[0.0,4.0,8.0,383....|        10.5|\n",
      "|[0.0,2.0,8.0,360....|        11.0|\n",
      "|[0.0,3.0,8.0,383....|        10.0|\n",
      "|[0.0,4.0,8.0,340....|         8.0|\n",
      "|[0.0,0.0,8.0,302....|         8.0|\n",
      "|[0.0,1.0,8.0,400....|         9.5|\n",
      "|[0.0,9.0,8.0,455....|        10.0|\n",
      "+--------------------+------------+\n",
      "only showing top 20 rows\n",
      "\n"
     ]
    }
   ],
   "source": [
    "# Prepare Machine learning with features & label\n",
    "# Feature assembler as a vector\n",
    "\n",
    "# Target Variable: 'Horsepower'\n",
    "vcar_df2_1 = VectorAssembler(inputCols=[\"Origin_index\",\"Manufacturer_index\",\"Cylinders\", \n",
    "                                        \"Displacement\",\"Model_Year\",\"Weight\"],\n",
    "                        outputCol=\"features\").transform(car_df2)\n",
    "vcar_df2_1 = vcar_df2_1.select(['features', 'Horsepower',''])\n",
    "vcar_df2_1.show()\n",
    "\n",
    "\n",
    "# Target Variable: 'Acceleration'\n",
    "vcar_df2_2 = VectorAssembler(inputCols=[\"Origin_index\",\"Manufacturer_index\",\"Cylinders\", \n",
    "                                        \"Displacement\",\"Model_Year\",\"Weight\"],\n",
    "                        outputCol=\"features\").transform(car_df2)\n",
    "vcar_df2_2 = vcar_df2_2.select(['features', 'Acceleration'])\n",
    "vcar_df2_2.show()"
   ]
  },
  {
   "cell_type": "markdown",
   "metadata": {},
   "source": [
    "# Split train & test data"
   ]
  },
  {
   "cell_type": "code",
   "execution_count": 57,
   "metadata": {},
   "outputs": [
    {
     "name": "stdout",
     "output_type": "stream",
     "text": [
      "10 90\n",
      "10 90\n"
     ]
    }
   ],
   "source": [
    "train_df2_1,test_df2_1 = vcar_df2_1.randomSplit([0.9, 0.1],seed=0)\n",
    "print(test_df2_1.count(), train_df2_1.count())\n",
    "\n",
    "train_df2_2,test_df2_2 = vcar_df2_2.randomSplit([0.9, 0.1],seed=0)\n",
    "print(test_df2_2.count(), train_df2_2.count())"
   ]
  },
  {
   "cell_type": "markdown",
   "metadata": {},
   "source": [
    "# Linear Regression\n",
    "## training data"
   ]
  },
  {
   "cell_type": "code",
   "execution_count": 59,
   "metadata": {},
   "outputs": [
    {
     "name": "stdout",
     "output_type": "stream",
     "text": [
      " 'Horsepower'Coefficients: [0.723678229197114,0.5993980730081919,-6.833005041865537,0.3376684001794473,-1.2207906782870934,0.018700623532089535]\n",
      " 'Horsepower' Intercept: 111.86265583290029\n",
      "'Acceleration' Coefficients: [-0.6436220953236311,0.019961593392296913,-0.44548247366027477,-0.03520173693120291,-0.0264355656527343,0.002903173669075452]\n",
      "'Acceleration' Intercept: 18.341777991830014\n"
     ]
    }
   ],
   "source": [
    "# Building the linear model with multiple features \n",
    "\n",
    "# Target Variable: 'Horsepower'\n",
    "lr2_1 = LinearRegression(labelCol=\"Horsepower\", featuresCol=\"features\")\n",
    " \n",
    "lr_model2_1 = lr2_1.fit(train_df2_1)\n",
    "\n",
    "print(\" 'Horsepower'Coefficients: \" + str(lr_model2_1.coefficients))\n",
    "print(\" 'Horsepower' Intercept: \" + str(lr_model2_1.intercept))\n",
    "\n",
    "# Target Variable: 'Acceleration'\n",
    "\n",
    "lr2_2 = LinearRegression(labelCol=\"Acceleration\", featuresCol=\"features\")\n",
    " \n",
    "lr_model2_2 = lr2_2.fit(train_df2_2)\n",
    "\n",
    "print(\"'Acceleration' Coefficients: \" + str(lr_model2_2.coefficients))\n",
    "print(\"'Acceleration' Intercept: \" + str(lr_model2_2.intercept))\n",
    "\n",
    "#\"Origin_index\",\"Manufacturer_index\",\"Cylinders\",\"Displacement\",\"Model_Year\",\"Weight\""
   ]
  },
  {
   "cell_type": "code",
   "execution_count": 61,
   "metadata": {},
   "outputs": [
    {
     "name": "stdout",
     "output_type": "stream",
     "text": [
      "RMSE: 16.192182\n",
      "r2: 0.873034\n",
      "+-------+------------------+\n",
      "|summary|        Horsepower|\n",
      "+-------+------------------+\n",
      "|  count|                90|\n",
      "|   mean|111.72222222222223|\n",
      "| stddev|45.697104320961614|\n",
      "|    min|                46|\n",
      "|    max|               225|\n",
      "+-------+------------------+\n",
      "\n",
      "RMSE: 2.038331\n",
      "r2: 0.598535\n",
      "+-------+------------------+\n",
      "|summary|      Acceleration|\n",
      "+-------+------------------+\n",
      "|  count|                90|\n",
      "|   mean|15.040000000000004|\n",
      "| stddev|3.2350190593884833|\n",
      "|    min|               8.0|\n",
      "|    max|              22.2|\n",
      "+-------+------------------+\n",
      "\n"
     ]
    }
   ],
   "source": [
    "# Summarize the model\n",
    "# Target Variable: 'Horsepower'\n",
    "trainingSummary2_1 = lr_model2_1.summary\n",
    "print(\"RMSE: %f\" % trainingSummary2_1.rootMeanSquaredError)\n",
    "print(\"r2: %f\" % trainingSummary2_1.r2)\n",
    "train_df2_1.describe().show()\n",
    "\n",
    "# Target Variable: 'Acceleration'\n",
    "trainingSummary2_2 = lr_model2_2.summary\n",
    "print(\"RMSE: %f\" % trainingSummary2_2.rootMeanSquaredError)\n",
    "print(\"r2: %f\" % trainingSummary2_2.r2)\n",
    "train_df2_2.describe().show()\n"
   ]
  },
  {
   "cell_type": "markdown",
   "metadata": {},
   "source": [
    "- Use test data to assess quality of prediction for both target variables. Which of two target variables is easier to predict, in the sense that predicted values differ less from the original values ↓"
   ]
  },
  {
   "cell_type": "markdown",
   "metadata": {},
   "source": [
    "# Test Data"
   ]
  },
  {
   "cell_type": "code",
   "execution_count": 64,
   "metadata": {},
   "outputs": [
    {
     "name": "stdout",
     "output_type": "stream",
     "text": [
      "+------------------+----------+--------------------+\n",
      "|        prediction|Horsepower|            features|\n",
      "+------------------+----------+--------------------+\n",
      "| 76.07343374754245|        82|[0.0,1.0,4.0,119....|\n",
      "| 159.0328905065947|       145|[0.0,1.0,8.0,350....|\n",
      "| 139.7924984041112|       150|[0.0,2.0,8.0,304....|\n",
      "|  176.630140832425|       190|[0.0,2.0,8.0,390....|\n",
      "|62.017399362461475|        63|[0.0,4.0,4.0,105....|\n",
      "+------------------+----------+--------------------+\n",
      "only showing top 5 rows\n",
      "\n",
      "R Squared (R2) on test data = 0.942287\n",
      "+------------------+------------+--------------------+\n",
      "|        prediction|Acceleration|            features|\n",
      "+------------------+------------+--------------------+\n",
      "| 18.11971899212908|        19.4|[0.0,1.0,4.0,119....|\n",
      "|12.240538108512245|        12.0|[0.0,1.0,8.0,350....|\n",
      "|12.232618972491352|        12.0|[0.0,2.0,8.0,304....|\n",
      "|10.415893016412365|         8.5|[0.0,2.0,8.0,390....|\n",
      "| 16.94503975624292|        14.7|[0.0,4.0,4.0,105....|\n",
      "+------------------+------------+--------------------+\n",
      "only showing top 5 rows\n",
      "\n",
      "R Squared (R2) on test data = 0.4521\n"
     ]
    }
   ],
   "source": [
    "# Target Variable: 'Horsepower'\n",
    "lr_predictions2_1 = lr_model2_1.transform(test_df2_1)\n",
    "lr_predictions2_1.select(\"prediction\",\"Horsepower\",\"features\").show(5)\n",
    "\n",
    "lr_evaluator2_1 = RegressionEvaluator(predictionCol=\"prediction\", \\\n",
    "                 labelCol=\"Horsepower\",metricName=\"r2\")\n",
    "print(\"R Squared (R2) on test data = %g\" % lr_evaluator2_1.evaluate(lr_predictions2_1))\n",
    "\n",
    "# Target Variable: 'Acceleration'\n",
    "lr_predictions2_2 = lr_model2_2.transform(test_df2_2)\n",
    "lr_predictions2_2.select(\"prediction\",\"Acceleration\",\"features\").show(5)\n",
    "\n",
    "lr_evaluator2_2 = RegressionEvaluator(predictionCol=\"prediction\", \\\n",
    "                 labelCol=\"Acceleration\",metricName=\"r2\")\n",
    "print(\"R Squared (R2) on test data = %g\" % lr_evaluator2_2.evaluate(lr_predictions2_2))\n"
   ]
  },
  {
   "cell_type": "code",
   "execution_count": 67,
   "metadata": {},
   "outputs": [
    {
     "name": "stdout",
     "output_type": "stream",
     "text": [
      "Root Mean Squared Error (RMSE) on test data = 10.1069\n",
      "numIterations: 1\n",
      "+-------------------+\n",
      "|          residuals|\n",
      "+-------------------+\n",
      "|  4.964855160834816|\n",
      "|-14.991219500551324|\n",
      "|  4.877876134724062|\n",
      "| 2.1258842744510957|\n",
      "|  6.723337509544379|\n",
      "| -16.32147121501562|\n",
      "|-20.944492146431088|\n",
      "|  9.884873482728977|\n",
      "| -51.33766258043778|\n",
      "|  3.577684424831233|\n",
      "|  1.782424565750631|\n",
      "| -8.765793871536488|\n",
      "| -12.70319180931466|\n",
      "| -9.763260598900274|\n",
      "| 35.392730316926304|\n",
      "|0.21758155233698062|\n",
      "| -7.107525091682447|\n",
      "|-5.9095947296548275|\n",
      "| 20.367947701642777|\n",
      "|  16.44081675990398|\n",
      "+-------------------+\n",
      "only showing top 20 rows\n",
      "\n",
      "Root Mean Squared Error (RMSE) on test data = 3.12692\n",
      "numIterations: 1\n",
      "+-------------------+\n",
      "|          residuals|\n",
      "+-------------------+\n",
      "| 0.8112458367565871|\n",
      "| -3.469142398391236|\n",
      "|-2.1894646140747636|\n",
      "|-1.9637430800168065|\n",
      "|-1.3814811051974658|\n",
      "| 1.7114435501654235|\n",
      "|  2.236208134724764|\n",
      "| 1.1351388498660135|\n",
      "|  5.764711379264504|\n",
      "| -4.030845366043126|\n",
      "|  -1.80955003827437|\n",
      "| 1.6268272409612692|\n",
      "|-1.2830215250545667|\n",
      "|0.15011743475918138|\n",
      "| 0.3470502055934226|\n",
      "|-0.4285603608269035|\n",
      "|  4.713482521610295|\n",
      "|  4.696595698405204|\n",
      "|  0.577400291802018|\n",
      "| 1.5677338212961764|\n",
      "+-------------------+\n",
      "only showing top 20 rows\n",
      "\n"
     ]
    }
   ],
   "source": [
    "test_result2_1 = lr_model2_1.evaluate(test_df2_1)\n",
    "print(\"Root Mean Squared Error (RMSE) on test data = %g\" % test_result2_1.rootMeanSquaredError)\n",
    "print(\"numIterations: %d\" % trainingSummary2_1.totalIterations)\n",
    "trainingSummary2_1.residuals.show()\n",
    "\n",
    "test_result2_2 = lr_model2_2.evaluate(test_df2_2)\n",
    "print(\"Root Mean Squared Error (RMSE) on test data = %g\" % test_result2_2.rootMeanSquaredError)\n",
    "print(\"numIterations: %d\" % trainingSummary2_2.totalIterations)\n",
    "trainingSummary2_2.residuals.show()\n"
   ]
  },
  {
   "cell_type": "markdown",
   "metadata": {},
   "source": [
    "# Predictions"
   ]
  },
  {
   "cell_type": "code",
   "execution_count": 69,
   "metadata": {},
   "outputs": [
    {
     "name": "stdout",
     "output_type": "stream",
     "text": [
      "+------------------+----------+--------------------+\n",
      "|        prediction|Horsepower|            features|\n",
      "+------------------+----------+--------------------+\n",
      "| 76.07343374754245|        82|[0.0,1.0,4.0,119....|\n",
      "| 159.0328905065947|       145|[0.0,1.0,8.0,350....|\n",
      "| 139.7924984041112|       150|[0.0,2.0,8.0,304....|\n",
      "|  176.630140832425|       190|[0.0,2.0,8.0,390....|\n",
      "|62.017399362461475|        63|[0.0,4.0,4.0,105....|\n",
      "|147.87512421368666|       150|[0.0,4.0,8.0,318....|\n",
      "| 92.34568935372279|       110|[0.0,9.0,6.0,181....|\n",
      "| 86.60787997899357|        96|[1.0,5.0,4.0,144....|\n",
      "|62.055707883096964|        52|[2.0,6.0,4.0,97.0...|\n",
      "| 89.88785359502076|        90|[2.0,13.0,4.0,107...|\n",
      "+------------------+----------+--------------------+\n",
      "\n",
      "+------------------+------------+--------------------+\n",
      "|        prediction|Acceleration|            features|\n",
      "+------------------+------------+--------------------+\n",
      "| 18.11971899212908|        19.4|[0.0,1.0,4.0,119....|\n",
      "|12.240538108512245|        12.0|[0.0,1.0,8.0,350....|\n",
      "|12.232618972491352|        12.0|[0.0,2.0,8.0,304....|\n",
      "|10.415893016412365|         8.5|[0.0,2.0,8.0,390....|\n",
      "| 16.94503975624292|        14.7|[0.0,4.0,4.0,105....|\n",
      "| 13.09301349854395|        13.2|[0.0,4.0,8.0,318....|\n",
      "|15.859153177754305|        16.4|[0.0,9.0,6.0,181....|\n",
      "|16.516225295295417|        13.9|[1.0,5.0,4.0,144....|\n",
      "|15.993848516175253|        24.6|[2.0,6.0,4.0,97.0...|\n",
      "|16.969741189164747|        14.5|[2.0,13.0,4.0,107...|\n",
      "+------------------+------------+--------------------+\n",
      "\n"
     ]
    }
   ],
   "source": [
    "# Target Variable: 'Horsepower'\n",
    "predictions2_1 = lr_model2_1.transform(test_df2_1)\n",
    "predictions2_1.select(\"prediction\",\"Horsepower\",\"features\").show()\n",
    "\n",
    "# Target Variable: 'Acceleration'\n",
    "predictions2_2 = lr_model2_2.transform(test_df2_2)\n",
    "predictions2_2.select(\"prediction\",\"Acceleration\",\"features\").show()"
   ]
  },
  {
   "attachments": {},
   "cell_type": "markdown",
   "metadata": {},
   "source": [
    "# Problem 3:  \n",
    "## Decision Tree\n",
    "- Repeat above analysis with decision tree method. Compare predicting ability/quality of this technique with that of the linear regression."
   ]
  },
  {
   "cell_type": "code",
   "execution_count": 70,
   "metadata": {},
   "outputs": [],
   "source": [
    "from pyspark.ml.regression import DecisionTreeRegressor"
   ]
  },
  {
   "cell_type": "code",
   "execution_count": 72,
   "metadata": {},
   "outputs": [
    {
     "name": "stdout",
     "output_type": "stream",
     "text": [
      "Root Mean Squared Error (RMSE) on test data = 16.9014\n"
     ]
    }
   ],
   "source": [
    "# Building the decision tree model with multiple features \n",
    "\n",
    "dt = DecisionTreeRegressor(featuresCol ='features', labelCol = 'Horsepower')\n",
    "\n",
    "dt_model = dt.fit(train_df2_1)\n",
    "\n",
    "dt_predictions = dt_model.transform(test_df2_1)\n",
    "\n",
    "dt_evaluator = RegressionEvaluator(\n",
    "    labelCol=\"Horsepower\", predictionCol=\"prediction\", metricName=\"rmse\")\n",
    "\n",
    "rmse = dt_evaluator.evaluate(dt_predictions)\n",
    "\n",
    "print(\"Root Mean Squared Error (RMSE) on test data = %g\" % rmse)\n",
    "\n",
    "#Root Mean Squared Error (RMSE) on test data = 16.9\n"
   ]
  },
  {
   "cell_type": "code",
   "execution_count": 85,
   "metadata": {},
   "outputs": [
    {
     "name": "stdout",
     "output_type": "stream",
     "text": [
      "R sqaure on test data = 0.838608\n"
     ]
    }
   ],
   "source": [
    "dt_evaluator = RegressionEvaluator(\n",
    "    labelCol=\"Horsepower\", predictionCol=\"prediction\", metricName=\"r2\")\n",
    "r2 = dt_evaluator.evaluate(dt_predictions)\n",
    "\n",
    "print(\"R sqaure on test data = %g\" % r2)"
   ]
  },
  {
   "cell_type": "code",
   "execution_count": 74,
   "metadata": {},
   "outputs": [
    {
     "data": {
      "text/plain": [
       "SparseVector(6, {0: 0.0017, 1: 0.0339, 2: 0.7947, 3: 0.0941, 4: 0.0028, 5: 0.0729})"
      ]
     },
     "execution_count": 74,
     "metadata": {},
     "output_type": "execute_result"
    }
   ],
   "source": [
    "# Check the Feature Importance\n",
    "# Features: \"Origin_index\",\"Manufacturer_index\",\"Cylinders\", \"Displacement\",\"Model_Year\",\"Weight\"\n",
    "\n",
    "dt_model.featureImportances\n",
    "\n",
    "# “Cylinders” is the most important feature for predicting the Horepower with decision tree model."
   ]
  },
  {
   "cell_type": "code",
   "execution_count": 80,
   "metadata": {},
   "outputs": [
    {
     "name": "stdout",
     "output_type": "stream",
     "text": [
      "+----------------+----------+--------------------+\n",
      "|      prediction|Horsepower|            features|\n",
      "+----------------+----------+--------------------+\n",
      "|86.6470588235294|        82|[0.0,1.0,4.0,119....|\n",
      "|           157.0|       145|[0.0,1.0,8.0,350....|\n",
      "|           120.0|       150|[0.0,2.0,8.0,304....|\n",
      "|           179.0|       190|[0.0,2.0,8.0,390....|\n",
      "|            78.5|        63|[0.0,4.0,4.0,105....|\n",
      "|           150.0|       150|[0.0,4.0,8.0,318....|\n",
      "|           120.0|       110|[0.0,9.0,6.0,181....|\n",
      "|86.6470588235294|        96|[1.0,5.0,4.0,144....|\n",
      "|            70.5|        52|[2.0,6.0,4.0,97.0...|\n",
      "|           120.0|        90|[2.0,13.0,4.0,107...|\n",
      "+----------------+----------+--------------------+\n",
      "\n"
     ]
    }
   ],
   "source": [
    "# Displaying the decision tree predictions\n",
    "dt_predictions.select(\"prediction\",\"Horsepower\",\"features\").show()"
   ]
  },
  {
   "cell_type": "code",
   "execution_count": null,
   "metadata": {},
   "outputs": [],
   "source": []
  }
 ],
 "metadata": {
  "kernelspec": {
   "display_name": "Python 3",
   "language": "python",
   "name": "python3"
  },
  "language_info": {
   "codemirror_mode": {
    "name": "ipython",
    "version": 3
   },
   "file_extension": ".py",
   "mimetype": "text/x-python",
   "name": "python",
   "nbconvert_exporter": "python",
   "pygments_lexer": "ipython3",
   "version": "3.7.6"
  }
 },
 "nbformat": 4,
 "nbformat_minor": 4
}
